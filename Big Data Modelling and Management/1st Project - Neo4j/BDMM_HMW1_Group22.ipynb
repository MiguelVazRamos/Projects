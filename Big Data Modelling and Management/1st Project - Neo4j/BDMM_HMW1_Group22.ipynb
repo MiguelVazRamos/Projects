{
 "cells": [
  {
   "cell_type": "markdown",
   "metadata": {},
   "source": [
    "# Big Data Modeling and Management Assigment - Homework 1"
   ]
  },
  {
   "cell_type": "markdown",
   "metadata": {},
   "source": [
    "## 🍺 The Beer project  🍺 \n",
    "\n",
    "As it was shown in classes, graph databases are a natural way of navegating distinct types of data. For this first project we will be taking a graph database to analyse beer and breweries!   \n",
    "\n",
    "_For reference the dataset used for this project has been extracted from [kaggle](https://www.kaggle.com/ehallmar/beers-breweries-and-beer-reviews), released by Evan Hallmark. Even though the author does not present metada on the origin of the data it is probably a collection of open data from places like [beeradvocate](https://www.beeradvocate.com/)_.\n",
    "\n",
    "### Problem description\n",
    "\n",
    "Explore the database via python neo4j connector and/or the graphical tool in the NEO4J webpage. Answer the questions. Submit the results by following the instructions\n",
    "\n",
    "\n",
    "### Questions\n",
    "\n",
    "1. How many different countries exist in the database?\n",
    "1. Most reviews:  \n",
    "    1. Which `Beer` has the most reviews?  \n",
    "    1. Which `Brewery` has the most reviews for its beers? [Hint: 5-node path]\n",
    "    1. Which `Country` has the most reviews for its beers? [Hint: 5-node path]\n",
    "1. Find the user/users that have the most shared reviews (reviews of the same beers) with the user CTJman?\n",
    "1. Which Portuguese brewery has the most beers?\n",
    "1. From those beers (the ones returned from the previous question), which has the most reviews?\n",
    "1. On average how many different beer styles does each brewery produce?\n",
    "1. Which brewery produces the strongest beers according to ABV? [Hint: database has NaN values]\n",
    "1. If I typically enjoy a beer due to its aroma and appearance, which beer style should I try? (Justify your answer well!) [Hint: database has NaN values]\n",
    "1. Using Graph Algorithms answer **one** of the following questions: [Hint: make sure to clear the graph before using it again]\n",
    "    1. Which two countries are most similiar when it comes to their **top 10** most produced Beer styles?\n",
    "    2. Which beer is the most influential when considering beers are conected by users who review them? [Please use limit of 1000 on beer-review-user path]]\n",
    "    3. Users are connected together by their reviews to beers, taking into consideration the \"overall\" score they review as a weight, how many communities are formed from these relationships? How many users has the biggest community? [Please use limit of 1000 on beer-review-user path]]\n",
    "1. Using Graph Algorithms answer **one** of the following questions:\n",
    "    1. Which beer has the most similar reviews as the beer `Super Bock Stout`? [Hint:inspect two subsets: with and without the beer in question]\n",
    "    2. Which user is the most influential when it comes to reviews made?\n",
    "1. If you had to pick 3 beers to recommend using only this database, which would you pick and why? (Justify your answer well!) [Hint: database has NaN values]\n",
    "\n",
    "\n",
    "Questions 8 to 10 are somewhat open, which means we'll also be evaluating the reasoning behind your answer. So there aren't necessarily bad results there are only wrong criteria, explanations or execution. \n",
    " \n",
    "### Groups  \n",
    "\n",
    "Groups should have 4 to 5 people.\n",
    "You should register your group on **moodle**.\n",
    "\n",
    "### Submission      \n",
    "\n",
    "The code used to produce the results and respective explations should be uploaded to moodle. They should have a clear reference to the group, either on the file name or on the document itself. Preferably one Jupyter notebook per group.\n",
    "\n",
    "Delivery date: Until the **midnight of March 13**\n",
    "\n",
    "### Evaluation   \n",
    "\n",
    "This will be 20% of the final grade.   \n",
    "Each solution will be evaluated on 2 components: correctness of results and simplicity of the solution.  \n",
    "All code will go through plagiarism automated checks. Groups with the same code will undergo investigation."
   ]
  },
  {
   "cell_type": "markdown",
   "metadata": {},
   "source": [
    "## Loading the Database\n",
    "\n",
    "#### Be sure that you **don't have** the neo4j docker container from the classes running (you can Stop it in the desktop app or with the command \"`docker stop Neo4JLab`\")\n",
    "\n",
    "\n",
    "The default container does not have any data whatsoever, we will have to load a database into our docker image:\n",
    "- Download and unzip the `Neo4JHWData` file provided in Moodle.\n",
    "- Copy the path of the `Neo4JHWData` folder of the unziped file, e.g. `C:/Users/nunoa/Desktop/Aulas/Big Data Management and Modelling/2023/HW1/Neo4JHWData/data`.\n",
    "- Download and unzip the `Neo4JPlugins` file provided in Moodle.\n",
    "- Copy the path of the `Neo4JPlugins` folder of the unziped file, e.g. `C:/Users/nunoa/Desktop/Aulas/Big Data Management and Modelling/2023/Neo4Jplugins`.\n",
    "- Change the code bellow accordingly. As you might have noticed, you do not have a user called `nunoa`, please use the appropriate path that you got from the previous step. Be sure that you have a neo4j docker container running: \\\n",
    "\n",
    "`docker run --name Neo4JHW -p 7474:7474 -p 7687:7687 -d -v \"C:/Users/nunoa/Desktop/Aulas/Big Data Management and Modelling/2023/Neo4Jplugins\":/plugins -v \"C:/Users/nunoa/Desktop/Aulas/Big Data Management and Modelling/2023/HW1/Neo4JHWData/data\":/data --env NEO4J_AUTH=neo4j/test --env NEO4J_dbms_connector_https_advertised__address=\"localhost:7473\" --env NEO4J_dbms_connector_http_advertised__address=\"localhost:7474\" --env NEO4J_dbms_connector_bolt_advertised__address=\"localhost:7687\" --env NEO4J_dbms_security_procedures_unrestricted=gds.* --env NEO4J_dbms_security_procedures_allowlist=gds.* --env NEO4J_dbms_memory_heap_max__size=\"6g\" neo4j:4.4.5`\n",
    "\n",
    "- Since Neo4j is trying to recognize a new database folder, this might take a bit (let's say 3 minutes), so don't worry."
   ]
  },
  {
   "cell_type": "code",
   "execution_count": 2,
   "metadata": {},
   "outputs": [],
   "source": [
    "from neo4j import GraphDatabase\n",
    "from pprint import pprint"
   ]
  },
  {
   "cell_type": "code",
   "execution_count": 3,
   "metadata": {},
   "outputs": [],
   "source": [
    "NEO4J_URI=\"neo4j://localhost:7687\"\n",
    "NEO4J_USERNAME=\"neo4j\"\n",
    "NEO4J_PASSWORD=\"test\""
   ]
  },
  {
   "cell_type": "code",
   "execution_count": 4,
   "metadata": {},
   "outputs": [],
   "source": [
    "driver = GraphDatabase.driver(NEO4J_URI, auth=(NEO4J_USERNAME, NEO4J_PASSWORD), )"
   ]
  },
  {
   "cell_type": "markdown",
   "metadata": {},
   "source": [
    "### All The Functions you'll need to run queries in Neo4J"
   ]
  },
  {
   "cell_type": "code",
   "execution_count": 5,
   "metadata": {},
   "outputs": [],
   "source": [
    "def execute_read(driver, query):    \n",
    "    with driver.session(database=\"neo4j\") as session:\n",
    "        result = session.execute_read(lambda tx, query: list(tx.run(query)), query)\n",
    "    return result"
   ]
  },
  {
   "cell_type": "markdown",
   "metadata": {},
   "source": [
    "## 1. Understanding the Database"
   ]
  },
  {
   "cell_type": "markdown",
   "metadata": {},
   "source": [
    "### 1.1. First Look at the Nodes and Relationship Types"
   ]
  },
  {
   "cell_type": "code",
   "execution_count": 6,
   "metadata": {},
   "outputs": [
    {
     "name": "stdout",
     "output_type": "stream",
     "text": [
      "[<Record label='COUNTRIES'>,\n",
      " <Record label='CITIES'>,\n",
      " <Record label='BREWERIES'>,\n",
      " <Record label='BEERS'>,\n",
      " <Record label='REVIEWS'>,\n",
      " <Record label='STYLE'>,\n",
      " <Record label='USER'>]\n"
     ]
    }
   ],
   "source": [
    "query = \"\"\"\n",
    "        call db.labels();\n",
    "    \"\"\"\n",
    "\n",
    "result = execute_read(driver, query)\n",
    "\n",
    "pprint(result)"
   ]
  },
  {
   "cell_type": "code",
   "execution_count": 7,
   "metadata": {},
   "outputs": [
    {
     "name": "stdout",
     "output_type": "stream",
     "text": [
      "[<Record relationshipType='REVIEWED'>,\n",
      " <Record relationshipType='BREWED'>,\n",
      " <Record relationshipType='IN'>,\n",
      " <Record relationshipType='HAS_STYLE'>,\n",
      " <Record relationshipType='POSTED'>]\n"
     ]
    }
   ],
   "source": [
    "query = \"\"\"\n",
    "        CALL db.relationshipTypes();\n",
    "    \"\"\"\n",
    "\n",
    "result = execute_read(driver, query)\n",
    "\n",
    "pprint(result)"
   ]
  },
  {
   "cell_type": "markdown",
   "metadata": {},
   "source": [
    "### 1.2. Checking the Relation between the Nodes and Relationship Types"
   ]
  },
  {
   "cell_type": "code",
   "execution_count": 8,
   "metadata": {},
   "outputs": [],
   "source": [
    "# In the next few lines of code we are going to try to understand\n",
    "# which relationship types are possibly connected to each node. This\n",
    "# will give us a better sense of the data and how the database was\n",
    "# built. Not only that, but we are also going to understand in which direction\n",
    "# is the relationship type pointing."
   ]
  },
  {
   "cell_type": "code",
   "execution_count": 9,
   "metadata": {},
   "outputs": [
    {
     "name": "stdout",
     "output_type": "stream",
     "text": [
      "[<Record type(d)='IN'>]\n"
     ]
    }
   ],
   "source": [
    "# Checking if there is any relationship type pointing to the node \"COUNTRIES\".\n",
    "# The relationship type \"IN\" points to the node \"COUNTRIES\".\n",
    "\n",
    "query = \"\"\"\n",
    "        MATCH (c:COUNTRIES)<-[d]-()\n",
    "        RETURN DISTINCT type(d)\n",
    "    \"\"\"\n",
    "\n",
    "result = execute_read(driver, query)\n",
    "\n",
    "pprint(result)"
   ]
  },
  {
   "cell_type": "code",
   "execution_count": 10,
   "metadata": {},
   "outputs": [
    {
     "name": "stdout",
     "output_type": "stream",
     "text": [
      "[]\n"
     ]
    }
   ],
   "source": [
    "# Checking if there is any relationship type pointing towards the opposite direction of the node \"COUNTRIES\".\n",
    "# No relationship type points in the opposite direction of the node \"COUNTRIES\".\n",
    "\n",
    "query = \"\"\"\n",
    "        MATCH (c:COUNTRIES)-[d]->()\n",
    "        RETURN DISTINCT type(d)\n",
    "    \"\"\"\n",
    "\n",
    "result = execute_read(driver, query)\n",
    "\n",
    "pprint(result)"
   ]
  },
  {
   "cell_type": "code",
   "execution_count": 11,
   "metadata": {},
   "outputs": [
    {
     "name": "stdout",
     "output_type": "stream",
     "text": [
      "[<Record type(d)='IN'>]\n"
     ]
    }
   ],
   "source": [
    "# Checking if there is any relationship type pointing to the node \"CITIES\".\n",
    "# The relationship type \"IN\" points to the node \"CITIES\".\n",
    "\n",
    "query = \"\"\"\n",
    "        MATCH (c:CITIES)<-[d]-()\n",
    "        RETURN DISTINCT type(d)\n",
    "    \"\"\"\n",
    "\n",
    "result = execute_read(driver, query)\n",
    "\n",
    "pprint(result)"
   ]
  },
  {
   "cell_type": "code",
   "execution_count": 12,
   "metadata": {},
   "outputs": [
    {
     "name": "stdout",
     "output_type": "stream",
     "text": [
      "[<Record type(d)='IN'>]\n"
     ]
    }
   ],
   "source": [
    "# Checking if there is any relationship type pointing towards the opposite direction of the node \"CITIES\".\n",
    "# The relationship type \"IN\" points to the opposite direction of the node \"COUNTRIES\".\n",
    "\n",
    "query = \"\"\"\n",
    "        MATCH (c:CITIES)-[d]->()\n",
    "        RETURN DISTINCT type(d)\n",
    "    \"\"\"\n",
    "\n",
    "result = execute_read(driver, query)\n",
    "\n",
    "pprint(result)"
   ]
  },
  {
   "cell_type": "code",
   "execution_count": 13,
   "metadata": {},
   "outputs": [
    {
     "name": "stdout",
     "output_type": "stream",
     "text": [
      "[]\n"
     ]
    }
   ],
   "source": [
    "# Checking if there is any relationship type pointing to the node \"BREWERIES\".\n",
    "# No relationship type points to the node \"BREWERIES\".\n",
    "\n",
    "query = \"\"\"\n",
    "        MATCH (b:BREWERIES)<-[d]-()\n",
    "        RETURN DISTINCT type(d)\n",
    "    \"\"\"\n",
    "\n",
    "result = execute_read(driver, query)\n",
    "\n",
    "pprint(result)"
   ]
  },
  {
   "cell_type": "code",
   "execution_count": 14,
   "metadata": {},
   "outputs": [
    {
     "name": "stdout",
     "output_type": "stream",
     "text": [
      "[<Record type(d)='IN'>, <Record type(d)='BREWED'>]\n"
     ]
    }
   ],
   "source": [
    "# Checking if there is any relationship type pointing towards the opposite direction of the node \"BREWERIES\".\n",
    "# The relationship type \"IN\" points to the opposite direction of the node \"BREWERIES\".\n",
    "\n",
    "query = \"\"\"\n",
    "        MATCH (b:BREWERIES)-[d]->()\n",
    "        RETURN DISTINCT type(d)\n",
    "    \"\"\"\n",
    "\n",
    "result = execute_read(driver, query)\n",
    "\n",
    "pprint(result)"
   ]
  },
  {
   "cell_type": "code",
   "execution_count": 15,
   "metadata": {},
   "outputs": [
    {
     "name": "stdout",
     "output_type": "stream",
     "text": [
      "[<Record type(d)='BREWED'>]\n"
     ]
    }
   ],
   "source": [
    "# Checking if there is any relationship type pointing to the node \"BEERS\".\n",
    "# The relationship type \"BREWED\" points to the node \"BEERS\".\n",
    "\n",
    "query = \"\"\"\n",
    "        MATCH (b:BEERS)<-[d]-()\n",
    "        RETURN DISTINCT type(d)\n",
    "    \"\"\"\n",
    "\n",
    "result = execute_read(driver, query)\n",
    "\n",
    "pprint(result)"
   ]
  },
  {
   "cell_type": "code",
   "execution_count": 16,
   "metadata": {},
   "outputs": [
    {
     "name": "stdout",
     "output_type": "stream",
     "text": [
      "[<Record type(d)='HAS_STYLE'>, <Record type(d)='REVIEWED'>]\n"
     ]
    }
   ],
   "source": [
    "# Checking if there is any relationship type pointing towards the opposite direction of the node \"BEERS\".\n",
    "# The relationship type \"HAS_STYLE\" and \"REVIEWED\" points to the opposite direction of the node \"BEERS\".\n",
    "\n",
    "query = \"\"\"\n",
    "        MATCH (b:BEERS)-[d]->()\n",
    "        RETURN DISTINCT type(d)\n",
    "    \"\"\"\n",
    "\n",
    "result = execute_read(driver, query)\n",
    "\n",
    "pprint(result)"
   ]
  },
  {
   "cell_type": "code",
   "execution_count": 17,
   "metadata": {},
   "outputs": [
    {
     "name": "stdout",
     "output_type": "stream",
     "text": [
      "[<Record type(d)='REVIEWED'>]\n"
     ]
    }
   ],
   "source": [
    "# Checking if there is any relationship type pointing to the node \"REVIEWS\".\n",
    "# The relationship type \"REVIEWED\" points to the node \"REVIEWS\".\n",
    "\n",
    "query = \"\"\"\n",
    "        MATCH (r:REVIEWS)<-[d]-()\n",
    "        RETURN DISTINCT type(d)\n",
    "    \"\"\"\n",
    "\n",
    "result = execute_read(driver, query)\n",
    "\n",
    "pprint(result)"
   ]
  },
  {
   "cell_type": "code",
   "execution_count": 18,
   "metadata": {},
   "outputs": [
    {
     "name": "stdout",
     "output_type": "stream",
     "text": [
      "[<Record type(d)='POSTED'>]\n"
     ]
    }
   ],
   "source": [
    "# Checking if there is any relationship type pointing towards the opposite direction of the node \"REVIEWS\".\n",
    "# The relationship type \"POSTED\" points to the opposite direction of the node \"REVIEWS\".\n",
    "\n",
    "query = \"\"\"\n",
    "        MATCH (r:REVIEWS)-[d]->()\n",
    "        RETURN DISTINCT type(d)\n",
    "    \"\"\"\n",
    "\n",
    "result = execute_read(driver, query)\n",
    "\n",
    "pprint(result)"
   ]
  },
  {
   "cell_type": "code",
   "execution_count": 19,
   "metadata": {},
   "outputs": [
    {
     "name": "stdout",
     "output_type": "stream",
     "text": [
      "[<Record type(d)='HAS_STYLE'>]\n"
     ]
    }
   ],
   "source": [
    "# Checking if there is any relationship type pointing to the node \"STYLE\".\n",
    "# The relationship type \"HAS_STYLE\" points to the node \"STYLE\".\n",
    "\n",
    "query = \"\"\"\n",
    "        MATCH (s:STYLE)<-[d]-()\n",
    "        RETURN DISTINCT type(d)\n",
    "    \"\"\"\n",
    "\n",
    "result = execute_read(driver, query)\n",
    "\n",
    "pprint(result)"
   ]
  },
  {
   "cell_type": "code",
   "execution_count": 20,
   "metadata": {},
   "outputs": [
    {
     "name": "stdout",
     "output_type": "stream",
     "text": [
      "[]\n"
     ]
    }
   ],
   "source": [
    "# Checking if there is any relationship type pointing towards the opposite direction of the node \"STYLE\".\n",
    "# No relationship type points in the opposite direction of the node \"STYLE\".\n",
    "\n",
    "query = \"\"\"\n",
    "        MATCH (s:STYLE)-[d]->()\n",
    "        RETURN DISTINCT type(d)\n",
    "    \"\"\"\n",
    "\n",
    "result = execute_read(driver, query)\n",
    "\n",
    "pprint(result)"
   ]
  },
  {
   "cell_type": "code",
   "execution_count": 21,
   "metadata": {},
   "outputs": [
    {
     "name": "stdout",
     "output_type": "stream",
     "text": [
      "[<Record type(d)='POSTED'>]\n"
     ]
    }
   ],
   "source": [
    "# Checking if there is any relationship type pointing to the node \"USER\".\n",
    "# The relationship type \"POSTED\" points to the node \"USER\".\n",
    "\n",
    "query = \"\"\"\n",
    "        MATCH (u:USER)<-[d]-()\n",
    "        RETURN DISTINCT type(d)\n",
    "    \"\"\"\n",
    "\n",
    "result = execute_read(driver, query)\n",
    "\n",
    "pprint(result)"
   ]
  },
  {
   "cell_type": "code",
   "execution_count": 22,
   "metadata": {},
   "outputs": [
    {
     "name": "stdout",
     "output_type": "stream",
     "text": [
      "[]\n"
     ]
    }
   ],
   "source": [
    "# Checking if there is any relationship type pointing towards the opposite direction of the node \"USER\".\n",
    "# No relationship type points in the opposite direction of the node \"USER\".\n",
    "\n",
    "query = \"\"\"\n",
    "        MATCH (u:USER)-[d]->()\n",
    "        RETURN DISTINCT type(d)\n",
    "    \"\"\"\n",
    "\n",
    "result = execute_read(driver, query)\n",
    "\n",
    "pprint(result)"
   ]
  },
  {
   "cell_type": "code",
   "execution_count": 23,
   "metadata": {},
   "outputs": [],
   "source": [
    "# From our initial analysis we were able to understand all the relations\n",
    "# between each node and their respective relationship types, with them being\n",
    "# presented in the image below."
   ]
  },
  {
   "cell_type": "markdown",
   "metadata": {},
   "source": [
    "<img src=\"Organogram.png\" style=\"width:60%; height:100%;\">"
   ]
  },
  {
   "cell_type": "markdown",
   "metadata": {},
   "source": [
    "### 1.3. Checking the Different Properties of Each Node"
   ]
  },
  {
   "cell_type": "code",
   "execution_count": 24,
   "metadata": {},
   "outputs": [
    {
     "name": "stdout",
     "output_type": "stream",
     "text": [
      "[<Record c=<Node element_id='0' labels=frozenset({'COUNTRIES'}) properties={'name': 'BE'}>>]\n"
     ]
    }
   ],
   "source": [
    "# The node \"COUNTRIES\" will have \"name\" as its properties.\n",
    "\n",
    "query = \"\"\"\n",
    "        MATCH (c:COUNTRIES)\n",
    "        RETURN c\n",
    "        LIMIT 1\n",
    "    \"\"\"\n",
    "\n",
    "result = execute_read(driver, query)\n",
    "\n",
    "pprint(result)"
   ]
  },
  {
   "cell_type": "code",
   "execution_count": 25,
   "metadata": {},
   "outputs": [
    {
     "name": "stdout",
     "output_type": "stream",
     "text": [
      "[<Record c=<Node element_id='200' labels=frozenset({'CITIES'}) properties={'name': 'Erpe-Mere'}>>]\n"
     ]
    }
   ],
   "source": [
    "# The node \"CITIES\" will have \"name\" as its properties.\n",
    "\n",
    "query = \"\"\"\n",
    "        MATCH (c:CITIES)\n",
    "        RETURN c\n",
    "        LIMIT 1\n",
    "    \"\"\"\n",
    "\n",
    "result = execute_read(driver, query)\n",
    "\n",
    "pprint(result)"
   ]
  },
  {
   "cell_type": "code",
   "execution_count": 26,
   "metadata": {},
   "outputs": [
    {
     "name": "stdout",
     "output_type": "stream",
     "text": [
      "[<Record b=<Node element_id='11865' labels=frozenset({'BREWERIES'}) properties={'types': 'Brewery', 'notes': 'No notes at this time.', 'name': 'Brouwerij Danny', 'id': '19730', 'state': 'nan'}>>]\n"
     ]
    }
   ],
   "source": [
    "# The node \"BREWERIES\" will have \"types\", \"notes\", \"name\", \"id\", and \"state\" as its properties.\n",
    "\n",
    "query = \"\"\"\n",
    "        MATCH (b:BREWERIES)\n",
    "        RETURN b\n",
    "        LIMIT 1\n",
    "    \"\"\"\n",
    "\n",
    "result = execute_read(driver, query)\n",
    "\n",
    "pprint(result)"
   ]
  },
  {
   "cell_type": "code",
   "execution_count": 27,
   "metadata": {},
   "outputs": [
    {
     "name": "stdout",
     "output_type": "stream",
     "text": [
      "[<Record b=<Node element_id='62212' labels=frozenset({'BEERS'}) properties={'notes': 'No notes at this time.', 'abv': '7.3', 'name': 'Olde Cogitator', 'retired': 'f', 'state': 'CA', 'id': '202522', 'availability': ' Rotating', 'brewery_id': '2199'}>>]\n"
     ]
    }
   ],
   "source": [
    "# The node \"BREWERIES\" will have \"notes\", \"abv\", \"name\", \"retired\",\"state\",\n",
    "# \"id\", \"availability\", \"brewery_id\" as its properties.\n",
    "\n",
    "query = \"\"\"\n",
    "        MATCH (b:BEERS)\n",
    "        RETURN b\n",
    "        LIMIT 1\n",
    "    \"\"\"\n",
    "\n",
    "result = execute_read(driver, query)\n",
    "\n",
    "pprint(result)"
   ]
  },
  {
   "cell_type": "code",
   "execution_count": 28,
   "metadata": {},
   "outputs": [
    {
     "name": "stdout",
     "output_type": "stream",
     "text": [
      "[<Record s=<Node element_id='9494213' labels=frozenset({'STYLE'}) properties={'name': 'English Oatmeal Stout'}>>]\n"
     ]
    }
   ],
   "source": [
    "# The node \"STYLE\" will have \"name\" as its properties.\n",
    "\n",
    "query = \"\"\"\n",
    "        MATCH (s:STYLE)\n",
    "        RETURN s\n",
    "        LIMIT 1\n",
    "    \"\"\"\n",
    "\n",
    "result = execute_read(driver, query)\n",
    "\n",
    "pprint(result)"
   ]
  },
  {
   "cell_type": "code",
   "execution_count": 83,
   "metadata": {},
   "outputs": [
    {
     "name": "stdout",
     "output_type": "stream",
     "text": [
      "[<Record r=<Node element_id='421085' labels=frozenset({'REVIEWS'}) properties={'date': '2017-03-17', 'score': '4.03', 'taste': '4.0', 'feel': '4.25', 'overall': '4.0', 'beer_id': '271781', 'text': \"\\xa0\\xa0 750 ml bottle, 2016 vintage, bottle #304 of 360. Served in a DFH snifter, the beer pours dark brown/black with about an inch tan head that stuck around a little while. There's also a good amount of lacing. I like the aroma, the brew smells like dark fruit (raisin, plum), chocolate, roasted malt, and a bit of licorice. For the most part I think the taste is just like the aroma, but with some coffee flavor noticeable too. Mouthfeel/body is medium/full, it's creamy and coating with a moderate amount of carbonation. I think it's a good overall brew, worth picking up if you want a nice straight forward imperial stout. Here's hoping Four String brings this back in the future! $9.99 a bottle. \\xa0\", 'id': '0', 'smell': '4.0', 'look': '4.0'}>>]\n"
     ]
    }
   ],
   "source": [
    "# The node \"REVIEWS\" will have \"date\", \"score\", \"taste\", \"feel\", \"overall\",\n",
    "# \"beer_id\", \"text\", \"id\", \"smell\", \"look\" as its properties.\n",
    "\n",
    "query = \"\"\"\n",
    "        MATCH (r:REVIEWS)\n",
    "        RETURN r\n",
    "        LIMIT 1\n",
    "    \"\"\"\n",
    "\n",
    "result = execute_read(driver, query)\n",
    "\n",
    "pprint(result)"
   ]
  },
  {
   "cell_type": "code",
   "execution_count": 30,
   "metadata": {},
   "outputs": [
    {
     "name": "stdout",
     "output_type": "stream",
     "text": [
      "[<Record u=<Node element_id='9494326' labels=frozenset({'USER'}) properties={'name': 'bluejacket74'}>>]\n"
     ]
    }
   ],
   "source": [
    "# The node \"USER\" will have \"name\" as its properties.\n",
    "\n",
    "query = \"\"\"\n",
    "        MATCH (u:USER)\n",
    "        RETURN u\n",
    "        LIMIT 1\n",
    "    \"\"\"\n",
    "\n",
    "result = execute_read(driver, query)\n",
    "\n",
    "pprint(result)"
   ]
  },
  {
   "cell_type": "markdown",
   "metadata": {},
   "source": [
    "<img src=\"Properties.png\" style=\"width:40%; height:100%;\">"
   ]
  },
  {
   "cell_type": "markdown",
   "metadata": {},
   "source": [
    "# Submission\n",
    "\n",
    "GROUP NUMBER:\n",
    "\n",
    "**22**\n",
    "\n",
    "GROUP MEMBERS:\n",
    "\n",
    "|STUDENT NUMBER|STUDENT NAME|\n",
    "|---|---|\n",
    "|20210581|Miguel Ramos|\n",
    "|20221022|Eduardo Palma|\n",
    "|20220607|José Matos|"
   ]
  },
  {
   "cell_type": "markdown",
   "metadata": {},
   "source": [
    "#### 1. How many different countries exist in the database?"
   ]
  },
  {
   "cell_type": "code",
   "execution_count": 6,
   "metadata": {},
   "outputs": [
    {
     "name": "stdout",
     "output_type": "stream",
     "text": [
      "There are 200 different countries on this Graph Database.\n"
     ]
    }
   ],
   "source": [
    "# Selecting the node \"COUNTRIES\" and counting all the distinct values\n",
    "# associated with the property \"name\".\n",
    "\n",
    "query = \"\"\"\n",
    "        MATCH (c:COUNTRIES)\n",
    "        RETURN COUNT(DISTINCT c.name) as num_countries\n",
    "    \"\"\"\n",
    "\n",
    "result = execute_read(driver, query)\n",
    "num_countries = result[0][\"num_countries\"]\n",
    "\n",
    "# We print the final answer.\n",
    "\n",
    "print(f\"There are {num_countries} different countries on this Graph Database.\")"
   ]
  },
  {
   "cell_type": "markdown",
   "metadata": {},
   "source": [
    "#### 2. Most reviews:  \n",
    "    A) Which `Beer` has the most reviews?  \n",
    "    B) Which `Brewery` has the most reviews for its beers?\n",
    "    C) Which `Country` has the most reviews for its beers? "
   ]
  },
  {
   "cell_type": "code",
   "execution_count": 7,
   "metadata": {},
   "outputs": [
    {
     "name": "stdout",
     "output_type": "stream",
     "text": [
      "The beer that was reviewed the most was IPA, with a total of 31387 reviews.\n"
     ]
    }
   ],
   "source": [
    "# Selecting both the nodes \"BEERS\" and \"REVIEWS\", including their relationship\n",
    "# type \"REVIEWED\". Then, we are grouping by the name of the beer, and counting\n",
    "# the number of reviews for each one of the grouped by beers.\n",
    "\n",
    "query = \"\"\"\n",
    "        MATCH (b:BEERS)-[r1:REVIEWED]->(r2:REVIEWS)\n",
    "        RETURN b.name as name_beer, COUNT(r2) as number_reviews\n",
    "        ORDER BY number_reviews DESC\n",
    "        LIMIT 1\n",
    "    \"\"\"\n",
    "\n",
    "result = execute_read(driver, query)\n",
    "name_beer = result[0][\"name_beer\"]\n",
    "number_reviews = result[0][\"number_reviews\"]\n",
    "\n",
    "# We print the final answer.\n",
    "\n",
    "print(f\"The beer that was reviewed the most was {name_beer}, with a total of {number_reviews} reviews.\")"
   ]
  },
  {
   "cell_type": "code",
   "execution_count": 39,
   "metadata": {},
   "outputs": [
    {
     "name": "stdout",
     "output_type": "stream",
     "text": [
      "The brewery that has the most beers reviewed is Sierra Nevada Brewing Co., with a total of 175161 reviews.\n"
     ]
    }
   ],
   "source": [
    "# Selecting the three needed nodes, being them \"BREWERIES\", \"BEERS\", and \"REVIEWS\",\n",
    "# and also selecting the relationship types that connect them. Then, we are grouping\n",
    "# by the name of the brewery, and counting the total number of reviews the beers of each\n",
    "# one of the breweries had.\n",
    "\n",
    "query = \"\"\"\n",
    "        MATCH (b1:BREWERIES)-[b2:BREWED]->(b3:BEERS)-[r1:REVIEWED]->(r2:REVIEWS)\n",
    "        RETURN b1.name as brewery_name, COUNT(r2) as number_reviews\n",
    "        ORDER BY number_reviews DESC\n",
    "        LIMIT 1\n",
    "    \"\"\"\n",
    "\n",
    "result = execute_read(driver, query)\n",
    "brewery_name = result[0][\"brewery_name\"]\n",
    "number_reviews = result[0][\"number_reviews\"]\n",
    "\n",
    "# We print the final answer.\n",
    "\n",
    "print(f\"The brewery that has the most beers reviewed is {brewery_name}, with a total of {number_reviews} reviews.\")"
   ]
  },
  {
   "cell_type": "code",
   "execution_count": 40,
   "metadata": {},
   "outputs": [
    {
     "name": "stdout",
     "output_type": "stream",
     "text": [
      "The country that has the most beers reviewed is US, with a total of 7675804 reviews.\n"
     ]
    }
   ],
   "source": [
    "# To get a relation between the node \"COUNTRIES\" and \"REVIEWS\", we have to select\n",
    "# these nodes and also all the nodes between them, these are \"CITIES\", \"BREWERIES\",\n",
    "# \"BEERS\", and \"REVIEWS\". Not only that but we also have to select all the relationship\n",
    "# types that allow to create connections between all these nodes. Then, we are grouping\n",
    "# by the name of the country, and counting the number os reviews from all the beers from\n",
    "# all the breweries of that specific country.\n",
    "\n",
    "query = \"\"\"\n",
    "        MATCH (c1:COUNTRIES)<-[:IN]-(c2:CITIES)<-[:IN]-(b1:BREWERIES)-[:BREWED]->(b2:BEERS)-[:REVIEWED]->(r:REVIEWS)\n",
    "        RETURN c1.name as country_name, COUNT(r) as number_reviews\n",
    "        ORDER BY number_reviews DESC\n",
    "        LIMIT 1\n",
    "    \"\"\"\n",
    "\n",
    "result = execute_read(driver, query)\n",
    "country_name = result[0][\"country_name\"]\n",
    "number_reviews = result[0][\"number_reviews\"]\n",
    "\n",
    "# We print the final answer.\n",
    "\n",
    "print(f\"The country that has the most beers reviewed is {country_name}, with a total of {number_reviews} reviews.\")"
   ]
  },
  {
   "cell_type": "markdown",
   "metadata": {},
   "source": [
    "#### 3. Find the user/users that have the most shared reviews (reviews of the same beers) with the user CTJman?"
   ]
  },
  {
   "cell_type": "code",
   "execution_count": 41,
   "metadata": {},
   "outputs": [
    {
     "name": "stdout",
     "output_type": "stream",
     "text": [
      "Out of all the 2155 beers that the user CTJman reviewed, 1428 of them were shared reviews with the user acurtis.\n"
     ]
    }
   ],
   "source": [
    "# Initially finding out how many reviews have the user CTJman done. For that\n",
    "# we have to select both the \"BEERS\" and \"USER\" nodes, this time already selecting\n",
    "# the property name: \"CTJman\" as it is from him that we want to draw the information.\n",
    "# We also select the relationship type \"REVIEWS\" that connects both nodes. We return\n",
    "# the number of beers that were reviewed by counting the number of \"BEERS\" nodes.\n",
    "\n",
    "query1 = \"\"\"\n",
    "        MATCH (b:BEERS)-[]->(r1:REVIEWS)-[]->(u1:USER{name:\"CTJman\"})\n",
    "        RETURN COUNT(b) as number_beers1\n",
    "        ORDER BY number_beers1 DESC\n",
    "    \"\"\"\n",
    "\n",
    "result1 = execute_read(driver, query1)\n",
    "number_beers1=result1[0][\"number_beers1\"]\n",
    "\n",
    "# Then, we have to find the user that has most co-occurences related to beer reviews, that\n",
    "# is, the user with the most shared reviews with CTJman. We can do that by selecting the same nodes\n",
    "# we refered before but now we have to give two sides to it, one for the user \"CTJman\", and the other\n",
    "# side for the user that we are looking for. We return a group by, by the name of the user\n",
    "# which is ordered by the total number of shared reviews.\n",
    "\n",
    "\n",
    "query2 = \"\"\"\n",
    "        MATCH (u2:USER)<-[]-(r2:REVIEWS)<-[]-(b:BEERS)-[]->(r1:REVIEWS)-[]->(u1:USER{name:\"CTJman\"})\n",
    "        RETURN u2.name as name, COUNT(b) as number_beers2\n",
    "        ORDER BY number_beers2 DESC\n",
    "        LIMIT 1\n",
    "    \"\"\"\n",
    "\n",
    "result2 = execute_read(driver, query2)\n",
    "name=result2[0][\"name\"]\n",
    "number_beers2=result2[0][\"number_beers2\"]\n",
    "\n",
    "# We print the final answer.\n",
    "\n",
    "print(f\"Out of all the {number_beers1} beers that the user CTJman reviewed, {number_beers2} of them were shared reviews with the user {name}.\")"
   ]
  },
  {
   "cell_type": "markdown",
   "metadata": {},
   "source": [
    "#### 4. Which Portuguese brewery has the most beers?\n"
   ]
  },
  {
   "cell_type": "code",
   "execution_count": 42,
   "metadata": {},
   "outputs": [
    {
     "name": "stdout",
     "output_type": "stream",
     "text": [
      "The Portuguese brewery that has the most beers is Dois Corvos Cervejeira, counting with 40 beers.\n"
     ]
    }
   ],
   "source": [
    "# We will have to select the nodes that go all the way from the node \"COUNTRIES\" to the node \"BEERS\",\n",
    "# and not only that but we will only want the sequences that start with the property name \"PT\" in the node\n",
    "# \"COUNTRIES\", as we only want the Portuguese Breweries. We also have to select all the relationship types\n",
    "# that connect the mentioned nodes. We return a group by, by the brewery name, and the respective number\n",
    "# of beers of each of the breweries.\n",
    "\n",
    "query = \"\"\"\n",
    "        MATCH (c1:COUNTRIES{name:\"PT\"})<-[]-(:CITIES)<-[]-(b1:BREWERIES)-[]->(b2:BEERS)\n",
    "        RETURN b1.name as brewery_name, COUNT(b2) as number_beers\n",
    "        ORDER BY number_beers DESC\n",
    "        LIMIT 1\n",
    "    \"\"\"\n",
    "\n",
    "result = execute_read(driver, query)\n",
    "brewery_name=result[0][\"brewery_name\"]\n",
    "number_beers=result[0][\"number_beers\"]\n",
    "\n",
    "print(f\"The Portuguese brewery that has the most beers is {brewery_name}, counting with {number_beers} beers.\")"
   ]
  },
  {
   "cell_type": "markdown",
   "metadata": {},
   "source": [
    "#### 5. From those beers (the ones produced in the brewery from the previous question), which has the most reviews?\n"
   ]
  },
  {
   "cell_type": "code",
   "execution_count": 43,
   "metadata": {},
   "outputs": [
    {
     "name": "stdout",
     "output_type": "stream",
     "text": [
      "From the brewery Dois Corvos Cervejeira, the beer with the most reviews is Finisterra, with 10 reviews.\n"
     ]
    }
   ],
   "source": [
    "# Selecting the \"BREWERIES\" nodes where the property name has the value of \"Dois Corvos Cervejeira\",\n",
    "# then making the connection with the node \"BEERS\" and the node \"REVIEWS\", using the relationship\n",
    "# types between them. Then, we group by each beer name, which is the property name of the node \"BEERS\" and\n",
    "# we return the number of reviews for each beer name by counting the number of \"REVIEWS\" node (for each beer\n",
    "# name).\n",
    "\n",
    "query = \"\"\"\n",
    "        MATCH (b1:BREWERIES{name:\"Dois Corvos Cervejeira\"})-[]->(b2:BEERS)-[r1:REVIEWED]->(r2:REVIEWS)\n",
    "        RETURN b2.name as beer_name, COUNT(r2) as number_reviews\n",
    "        ORDER BY number_reviews DESC\n",
    "        LIMIT 1\n",
    "    \"\"\"\n",
    "\n",
    "result = execute_read(driver, query)\n",
    "beer_name=result[0][\"beer_name\"]\n",
    "number_reviews=result[0][\"number_reviews\"]\n",
    "\n",
    "print(f\"From the brewery Dois Corvos Cervejeira, the beer with the most reviews is {beer_name}, with {number_reviews} reviews.\")"
   ]
  },
  {
   "cell_type": "markdown",
   "metadata": {},
   "source": [
    "#### 6. On average how many different beer styles does each brewery produce?"
   ]
  },
  {
   "cell_type": "code",
   "execution_count": 44,
   "metadata": {},
   "outputs": [
    {
     "name": "stdout",
     "output_type": "stream",
     "text": [
      "On average each brewery produces 10.6 different beer styles.\n"
     ]
    }
   ],
   "source": [
    "# Selecting the path between the \"BREWERIES\" node and the \"STYLE\" node, including all the nodes\n",
    "# and relationship types in between. With a \"WITH\" statement we group by each \"BREWERIES\" node\n",
    "# the number of distinct beer styles related with that specific brewery. Then, finally we\n",
    "# return the average of the distinct beer styles per brewery.\n",
    "\n",
    "query = \"\"\"\n",
    "        MATCH (b1:BREWERIES)-[]->(b2:BEERS)-[h:HAS_STYLE]->(s:STYLE)\n",
    "        WITH b1, COUNT(DISTINCT(s)) as diff_styles_brewery\n",
    "        RETURN AVG(diff_styles_brewery) as avg_styles\n",
    "    \"\"\"\n",
    "\n",
    "result = execute_read(driver, query)\n",
    "avg_styles=result[0][\"avg_styles\"]\n",
    "\n",
    "print(f\"On average each brewery produces {round(avg_styles,2)} different beer styles.\")"
   ]
  },
  {
   "cell_type": "markdown",
   "metadata": {},
   "source": [
    "#### 7. Which brewery produces the strongest beers according to ABV?"
   ]
  },
  {
   "cell_type": "code",
   "execution_count": 47,
   "metadata": {},
   "outputs": [
    {
     "name": "stdout",
     "output_type": "stream",
     "text": [
      "The brewery 1648 Brewing Company Ltd is the one that produces the strongest beers, with an average of 25.58% ABV.\n"
     ]
    }
   ],
   "source": [
    "# Selecting the nodes \"BREWERIES\" and \"BEERS\", including the relationship type along the way,\n",
    "# then we are grouping by the brewery name and returning the average alcohol level of all the beers\n",
    "# belonging to that \"BREWERIES\" node. Import to use the function toFloat as the alcohol levels of each\n",
    "# beer stored in the property \"abv\" of each node \"BEERS\" are strings and we want to use the function \n",
    "# AVG() on them, and so we have to tranform them to floats. Then we are going to have a look at which\n",
    "# beers are in the brewery with the strongst beers, to see if it makes sense.\n",
    "\n",
    "query = \"\"\"\n",
    "        MATCH (b1:BREWERIES)-[]->(b2:BEERS)\n",
    "        RETURN b1.name as brewery_name, AVG(toFloat(b2.abv)) as avg_abv\n",
    "        ORDER BY COALESCE(avg_abv,0) DESC\n",
    "        LIMIT 1\n",
    "    \"\"\"\n",
    "\n",
    "result = execute_read(driver, query)\n",
    "brewery_name=result[0][\"brewery_name\"]\n",
    "avg_abv=result[0][\"avg_abv\"]\n",
    "\n",
    "print(f\"The brewery {brewery_name} is the one that produces the strongest beers, with an average of {round(avg_abv,2)}% ABV.\")"
   ]
  },
  {
   "cell_type": "code",
   "execution_count": 66,
   "metadata": {},
   "outputs": [
    {
     "name": "stdout",
     "output_type": "stream",
     "text": [
      "The beer Black Velvet has 5.5% of alcohol.\n",
      "The beer Winter Warrant has 4.8% of alcohol.\n",
      "The beer Signature has 4.5% of alcohol.\n",
      "The beer 1648 Armistice has 4.2% of alcohol.\n",
      "The beer 1648 Original has 3.9% of alcohol.\n",
      "The beer Hop Pocket has 3.7% of alcohol.\n",
      "The beer Ruby Mild has 3.6% of alcohol.\n",
      "The beer Radiohead - OK Computer has 100.0% of alcohol.\n",
      "The beer Earache: World's Shortest Album has 100.0% of alcohol.\n"
     ]
    }
   ],
   "source": [
    "# Let's have a look which are the beers that this brewery \"1648 Brewing Company Ltd\" produces\n",
    "# and their respective abv. As we can see 2 of the beers that \"1648 Brewing Company Lts\" produces\n",
    "# according to the data have 100% alcohol, which is not possible for a beer. Because of that\n",
    "# we are going to have a look at the brewery with second strongest beers to see if the same happens.\n",
    "\n",
    "query = \"\"\"\n",
    "        MATCH (b1:BREWERIES{name:\"1648 Brewing Company Ltd\"})-[]->(b2:BEERS)\n",
    "        RETURN b2.name as beer_name, b2.abv as alcohol\n",
    "        ORDER BY alcohol DESC\n",
    "    \"\"\"\n",
    "\n",
    "result = execute_read(driver, query)\n",
    "\n",
    "for i in range(len(result)):\n",
    "    beer_name=result[i][\"beer_name\"]\n",
    "    avg_abv=result[i][\"alcohol\"]\n",
    "    print(f\"The beer {beer_name} has {avg_abv}% of alcohol.\")"
   ]
  },
  {
   "cell_type": "code",
   "execution_count": 52,
   "metadata": {},
   "outputs": [
    {
     "name": "stdout",
     "output_type": "stream",
     "text": [
      "The brewery Schorschbräu is the one that produces the strongest beers, with an average of 22.52% ABV.\n"
     ]
    }
   ],
   "source": [
    "# Doing the same exercise as before but now having a look at the brewery with second strongest\n",
    "# beers, as the previous results are not valid.\n",
    "\n",
    "query = \"\"\"\n",
    "        MATCH (b1:BREWERIES)-[]->(b2:BEERS)\n",
    "        RETURN b1.name as brewery_name, AVG(toFloat(b2.abv)) as avg_abv\n",
    "        ORDER BY COALESCE(avg_abv,0) DESC\n",
    "        LIMIT 2\n",
    "    \"\"\"\n",
    "\n",
    "result = execute_read(driver, query)\n",
    "brewery_name=result[1][\"brewery_name\"]\n",
    "avg_abv=result[1][\"avg_abv\"]\n",
    "\n",
    "print(f\"The brewery {brewery_name} is the one that produces the strongest beers, with an average of {round(avg_abv,2)}% ABV.\")"
   ]
  },
  {
   "cell_type": "code",
   "execution_count": 67,
   "metadata": {},
   "outputs": [
    {
     "name": "stdout",
     "output_type": "stream",
     "text": [
      "The beer Schorschbräu Schorschbock 57% has 57.5% of alcohol.\n",
      "The beer Schorschbräu Schorschbock 43% has 43.0% of alcohol.\n",
      "The beer Schorschbräu Dunkles has 4.9% of alcohol.\n",
      "The beer Schorschbräu Schorschbock 40% has 39.44% of alcohol.\n",
      "The beer Schorschbräu Schorschbock 31% has 30.86% of alcohol.\n",
      "The beer Schorschbräu Schorschbock 20% has 20.0% of alcohol.\n",
      "The beer Schorschbock has 16.0% of alcohol.\n",
      "The beer Schorsch Weizen 16% has 16.0% of alcohol.\n",
      "The beer Schorschbock Ice 13 has 13.0% of alcohol.\n",
      "The beer Schorschbräu Donner Weizen has 13.0% of alcohol.\n",
      "The beer Schorschweizen 13% has 13.0% of alcohol.\n",
      "The beer Schorschbock 13% has 13.0% of alcohol.\n",
      "The beer Schorschbräu Donner Bock has 13.0% of alcohol.\n"
     ]
    }
   ],
   "source": [
    "# From the output we can see that although some of the beers have high levels of alcohol\n",
    "# they all make sense. So our final answer is that the brewery that produces beers with a higher level\n",
    "# of alcohol is \"Schorschbräu\".\n",
    "\n",
    "query = \"\"\"\n",
    "        MATCH (b1:BREWERIES{name:\"Schorschbräu\"})-[]->(b2:BEERS)\n",
    "        RETURN b2.name as beer_name, b2.abv as alcohol\n",
    "        ORDER BY alcohol DESC\n",
    "    \"\"\"\n",
    "\n",
    "result = execute_read(driver, query)\n",
    "\n",
    "for i in range(len(result)):\n",
    "    beer_name=result[i][\"beer_name\"]\n",
    "    avg_abv=result[i][\"alcohol\"]\n",
    "    print(f\"The beer {beer_name} has {avg_abv}% of alcohol.\")"
   ]
  },
  {
   "cell_type": "markdown",
   "metadata": {},
   "source": [
    "#### 8. If I typically enjoy a beer due to its aroma and appearance, which beer style should I try?"
   ]
  },
  {
   "cell_type": "code",
   "execution_count": 8,
   "metadata": {},
   "outputs": [
    {
     "name": "stdout",
     "output_type": "stream",
     "text": [
      "The beer style you should try is New England IPA, as there are 1919 different beers with this style, reviewed by 133642 people, giving an average look of 4.38 and an average smell of 4.41, resulting on a combined rating of 8.8.\n"
     ]
    }
   ],
   "source": [
    "# With the node \"BEERS\" in the middle, we are creating a connection with the nodes \"STYLE\" and \"REVIEWS\".\n",
    "# Then we are grouping by each syle name which is the property \"name\" of the \"STYLE\" node, and with it we\n",
    "# are returning the number of different beers produced with that style, the total number of reviews\n",
    "# related to these beers, the average smell rating of all these beers, the average look rating of all these\n",
    "# beers, and finally a combined rating of both, which will be our metric to determine which beer to recommend.\n",
    "\n",
    "query = \"\"\"\n",
    "        MATCH (s:STYLE)<-[]-(b:BEERS)-[]->(r:REVIEWS)\n",
    "        RETURN s.name as style_name , count(distinct(b)) as number_beers, count(distinct(r)) as number_reviews, AVG(toFloat(r.look)) as average_look,\n",
    "        AVG(toFloat(r.smell)) as average_smell, AVG(toFloat(r.look))+AVG(toFloat(r.smell)) as combined_rating\n",
    "        ORDER BY COALESCE(combined_rating,0) DESC, number_beers DESC\n",
    "        LIMIT 5\n",
    "    \"\"\"\n",
    "\n",
    "result = execute_read(driver, query)\n",
    "style_name=result[0][\"style_name\"]\n",
    "number_beers=result[0][\"number_beers\"]\n",
    "number_reviews=result[0][\"number_reviews\"]\n",
    "average_smell=round(result[0][\"average_smell\"],2)\n",
    "average_look=round(result[0][\"average_look\"],2)\n",
    "combined_rating=round(result[0][\"combined_rating\"],2)\n",
    "print(f\"The beer style you should try is {style_name}, as there are {number_beers} different beers with this style, reviewed by {number_reviews} people, giving an average look of {average_look} and an average smell of {average_smell}, resulting on a combined rating of {combined_rating}.\")"
   ]
  },
  {
   "cell_type": "markdown",
   "metadata": {},
   "source": [
    "#### 9. Using Graph Algorithms answer **one** of the following questions:\n",
    "    1. Which two countries are most similiar when it comes to their **top 10** most produced Beer styles?\n",
    "    2. Which beer is the most influential when considering beers are conected by users who review them?\n",
    "    3. Users are connected together by their reviews to beers, taking into consideration the \"overall\" score they review as a weight, how many communities are formed from these relationships? How many users has the biggest community?"
   ]
  },
  {
   "cell_type": "code",
   "execution_count": 5,
   "metadata": {},
   "outputs": [
    {
     "name": "stdout",
     "output_type": "stream",
     "text": [
      "ClientError('Failed to invoke procedure `gds.graph.drop`: Caused by: java.util.NoSuchElementException: Graph with name `exercise_9.2` does not exist on database `neo4j`. It might exist on another database.')\n"
     ]
    }
   ],
   "source": [
    "# We chose the Option 2. - Which beer is the most influential when considering\n",
    "# beers are conected by users who review them? The purpose of this cell of code\n",
    "# is to delete any previously created sub-graph with the name \"exercise_9.2\".\n",
    "\n",
    "try:\n",
    "    query = \"\"\"\n",
    "            CALL gds.graph.drop('exercise_9.2') YIELD graphName;\n",
    "        \"\"\"\n",
    "\n",
    "    result = execute_read(driver, query)\n",
    "\n",
    "    pprint(result)\n",
    "except Exception as e:\n",
    "    pprint(e)"
   ]
  },
  {
   "cell_type": "code",
   "execution_count": 6,
   "metadata": {},
   "outputs": [
    {
     "name": "stdout",
     "output_type": "stream",
     "text": [
      "[<Record nodeQuery='MATCH (b:BEERS) RETURN id(b) AS id' relationshipQuery='MATCH (b1:BEERS)-[]->(r1:REVIEWS)-[]->(u1:USER)<-[]-(r2:REVIEWS)<-[]-(b2:BEERS)\\n            RETURN id(b1) AS source, id(b2) AS target\\n            LIMIT 1000000000' graphName='exercise_9.2' nodeCount=358873 relationshipCount=1000000000 projectMillis=1723500>]\n"
     ]
    }
   ],
   "source": [
    "# To apply the PageRank centrality algorithm, we first create a sub-graph focused on beers.\n",
    "# Our main assumption is that the more beers that are linked to a particular beer, the more\n",
    "# important that beer is. To create these links between beers, we use the \"REVIEWS\" and \"USER\" nodes\n",
    "# in the middle. This allows us to establish connections between beers based on the reviews and users\n",
    "# associated with them.\n",
    "\n",
    "# By using this approach, we can determine the importance of each beer in the sub-graph. Specifically,\n",
    "# the more frequently a random beer leads to a specific beer, the more important that specific beer is\n",
    "# deemed to be in our analysis. Through this process, we can generate a ranked list of beers based on their\n",
    "# importance within the sub-graph.\n",
    "\n",
    "# Given the large size of the database, we have decided to limit the sub-graph query to 1 billion lines.\n",
    "# We believe that this subset of data will be sufficiently representative of the overall dataset and\n",
    "# will allow us to obtain meaningful results from our analysis.\n",
    "\n",
    "\n",
    "try:\n",
    "    query = \"\"\"\n",
    "        CALL gds.graph.project.cypher(\n",
    "            'exercise_9.2',\n",
    "            'MATCH (b:BEERS) RETURN id(b) AS id',\n",
    "            'MATCH (b1:BEERS)-[]->(r1:REVIEWS)-[]->(u1:USER)<-[]-(r2:REVIEWS)<-[]-(b2:BEERS)\n",
    "            RETURN id(b1) AS source, id(b2) AS target\n",
    "            LIMIT 1000000000'\n",
    "            )\n",
    "        \"\"\"\n",
    "\n",
    "    result = execute_read(driver, query)\n",
    "\n",
    "    pprint(result)\n",
    "except Exception as e:\n",
    "    pprint(e)"
   ]
  },
  {
   "cell_type": "code",
   "execution_count": 7,
   "metadata": {},
   "outputs": [
    {
     "name": "stdout",
     "output_type": "stream",
     "text": [
      "When considering users who review the beers, the beer with the biggest influence is Breakfast Stout, with a score of 14.41.\n"
     ]
    }
   ],
   "source": [
    "# After creating the sub-graph, we apply the PageRank algorithm to determine the influence\n",
    "# score of each \"BEERS\" node in the graph. We retrieve the ID of each \"BEERS\" node and its\n",
    "# corresponding influence score. Using reverse engineering, we obtain the property name\n",
    "# associated with each node ID and also retrieve its influence score.\n",
    "\n",
    "# Based on these results, we can identify the most influential beer in the sub-graph.\n",
    "\n",
    "\n",
    "query = \"\"\"\n",
    "        CALL gds.pageRank.stream('exercise_9.2')\n",
    "            YIELD nodeId, score\n",
    "            RETURN gds.util.asNode(nodeId).name AS name, score\n",
    "            ORDER BY score desc\n",
    "            LIMIT 1\n",
    "        \"\"\"\n",
    "\n",
    "result = execute_read(driver, query)\n",
    "beer = result[0][0]\n",
    "score = result[0][1]\n",
    "\n",
    "print(f\"When considering users who review the beers, the beer with the biggest influence is {beer}, with a score of {round(score,2)}.\")\n",
    "\n"
   ]
  },
  {
   "cell_type": "markdown",
   "metadata": {},
   "source": [
    "#### 10. Using Graph Algorithms answer **one** of the following questions:\n",
    "    1. Which beer has the most similar reviews as the beer `Super Bock Stout`?\n",
    "    2. Which user is the most influential when it comes to reviews made?"
   ]
  },
  {
   "cell_type": "code",
   "execution_count": 8,
   "metadata": {},
   "outputs": [
    {
     "name": "stdout",
     "output_type": "stream",
     "text": [
      "ClientError('Failed to invoke procedure `gds.graph.drop`: Caused by: java.util.NoSuchElementException: Graph with name `exercise_10.2` does not exist on database `neo4j`. It might exist on another database.')\n"
     ]
    }
   ],
   "source": [
    "# We chose the Option 2. Which user is the most influential when it comes to\n",
    "# reviews made? The purpose of this cell of code is to delete any previously\n",
    "# created sub-graph with the name \"exercise_10.2\".\n",
    "\n",
    "try:\n",
    "    query = \"\"\"\n",
    "            CALL gds.graph.drop('exercise_10.2') YIELD graphName;\n",
    "        \"\"\"\n",
    "\n",
    "    result = execute_read(driver, query)\n",
    "\n",
    "    pprint(result)\n",
    "except Exception as e:\n",
    "    pprint(e)"
   ]
  },
  {
   "cell_type": "code",
   "execution_count": 9,
   "metadata": {},
   "outputs": [
    {
     "name": "stdout",
     "output_type": "stream",
     "text": [
      "[<Record nodeQuery='match (n:USER) return id(n) AS id' relationshipQuery='MATCH (u1:USER)<-[]-(r1:REVIEWS)<-[]-(b1:BEERS)-[]->(r2:REVIEWS)-[]->(u2:USER)\\n             RETURN id(u1) AS source, id(u2) AS target\\n             LIMIT 1000000000' graphName='exercise_10.2' nodeCount=164935 relationshipCount=1000000000 projectMillis=2455889>]\n"
     ]
    }
   ],
   "source": [
    "# To apply the PageRank centrality algorithm, we first create a sub-graph focused on the users.\n",
    "# Our main assumption is that the more users that are linked to a specific user, the more important\n",
    "# that user is. To create these links between users, we use the \"REVIEWS\" and \"BEERS\" nodes in the middle.\n",
    "# This allows us to establish connections between beers based on the reviews and beers associated with\n",
    "# them.\n",
    "\n",
    "# By using this approach, we can determine the importance of each user in the sub-graph. Specifically,\n",
    "# the more frequently a random user leads to a specific user, the more important that specific user is\n",
    "# deemed to be in our analysis. Through this process, we can fenerate a ranked list of users based on\n",
    "# their importance within the sub-graph.\n",
    "\n",
    "# Given the large size of the database, we have decided to limit the sub-graph query to 1 billion lines.\n",
    "# We believe that this subset of data will be sufficiently representative of the overall dataset and\n",
    "# will allow us to obtain meaningful results from our analysis.\n",
    "\n",
    "try:\n",
    "    query = \"\"\"\n",
    "        CALL gds.graph.project.cypher(\n",
    "            'exercise_10.2',\n",
    "            'match (n:USER) return id(n) AS id',\n",
    "            'MATCH (u1:USER)<-[]-(r1:REVIEWS)<-[]-(b1:BEERS)-[]->(r2:REVIEWS)-[]->(u2:USER)\n",
    "             RETURN id(u1) AS source, id(u2) AS target\n",
    "             LIMIT 1000000000'\n",
    "            )\n",
    "        \"\"\"\n",
    "\n",
    "    result = execute_read(driver, query)\n",
    "\n",
    "    pprint(result)\n",
    "except Exception as e:\n",
    "    pprint(e)"
   ]
  },
  {
   "cell_type": "code",
   "execution_count": 10,
   "metadata": {},
   "outputs": [
    {
     "name": "stdout",
     "output_type": "stream",
     "text": [
      "Taking into consideration the reviews made, the user kjkinsey is the one with the biggest influence, obtaining a score of 836.79.\n"
     ]
    }
   ],
   "source": [
    "# After creating the sub-graph, we apply the PageRank algorithm to determine the influence score\n",
    "# of each \"USER\" node in the graph. We retrieve the ID of each \"USER\" node and its corresponding\n",
    "# influence score. Using reverse engineering, we obtain the property name associated with each node\n",
    "# ID and also retrieve its influence score. \n",
    "\n",
    "# Based onn these results, we can identify the most influential user in the sub-graph.\n",
    "\n",
    "\n",
    "query = \"\"\"\n",
    "        CALL gds.pageRank.stream('exercise_10.2')\n",
    "            YIELD nodeId, score\n",
    "            RETURN gds.util.asNode(nodeId).name AS name, score\n",
    "            ORDER BY score desc\n",
    "            LIMIT 1\n",
    "        \"\"\"\n",
    "\n",
    "result = execute_read(driver, query)\n",
    "user_name = result[0][0]\n",
    "score = result[0][1]\n",
    "\n",
    "print(f\"Taking into consideration the reviews made, the user {user_name} is the one with the biggest influence, obtaining a score of {round(score,2)}.\")"
   ]
  },
  {
   "cell_type": "markdown",
   "metadata": {},
   "source": [
    "#### 11. If you had to pick 3 beers to recommend using only this database, which would you pick and why?"
   ]
  },
  {
   "cell_type": "code",
   "execution_count": 10,
   "metadata": {},
   "outputs": [
    {
     "name": "stdout",
     "output_type": "stream",
     "text": [
      "The beers we would recommend based on our criteria are the following:\n",
      "The beer Kentucky Brunch Brand Stout from the US, which has an overall score of 4.85 based on 702 reviews.\n",
      "The beer Drie Fonteinen Zenne Y Frontera from BE, which has an overall score of 4.74 based on 250 reviews.\n",
      "The beer Heady Topper from GB, which has an overall score of 4.68 based on 14282 reviews.\n"
     ]
    }
   ],
   "source": [
    "# To recommend three beers, we have certain criteria that must be met.\n",
    "# Firstly, they must have the highest average overall score achievable, and secondly,\n",
    "# they must have received at least 100 reviews. Furthermore, the beers must be from different\n",
    "# countries and breweries. Finally, it is important to note that the recommended beers must\n",
    "# not be retired, as we cannot recommend a beer for tasting if it is no longer available.\n",
    "\n",
    "query = \"\"\"\n",
    "        MATCH (c1:COUNTRIES)<-[]-(c2:CITIES)<-[]-(b1:BREWERIES)-[]->(b2:BEERS)-[]->(r:REVIEWS)\n",
    "        WITH b2.name as beer_name, COUNT(r) as number_reviews, AVG(toFloat(r.overall)) as avg_overall,\n",
    "        c1.name as country, c2.name as city, b2.retired as retired\n",
    "        WHERE number_reviews > 100 and retired = \"f\"\n",
    "        RETURN beer_name, number_reviews, avg_overall, country, city\n",
    "        ORDER BY avg_overall DESC\n",
    "        LIMIT 100\n",
    "    \"\"\"\n",
    "\n",
    "result = execute_read(driver, query)\n",
    "\n",
    "countries=[]\n",
    "beers=[]\n",
    "reviews=[]\n",
    "scores=[]\n",
    "\n",
    "for i in range(len(result)):\n",
    "    if len(countries)!=3:\n",
    "        if result[i][\"country\"] not in countries:\n",
    "            countries.append(result[i][\"country\"])\n",
    "            beers.append(result[i][\"beer_name\"])\n",
    "            reviews.append(result[i][\"number_reviews\"])\n",
    "            scores.append(result[i][\"avg_overall\"])\n",
    "            \n",
    "print(\"The beers we would recommend based on our criteria are the following:\")\n",
    "print(f\"The beer {beers[0]} from the {countries[0]}, which has an overall score of {round(scores[0],2)} based on {reviews[0]} reviews.\")\n",
    "print(f\"The beer {beers[1]} from {countries[1]}, which has an overall score of {round(scores[1],2)} based on {reviews[1]} reviews.\")\n",
    "print(f\"The beer {beers[2]} from {countries[2]}, which has an overall score of {round(scores[2],2)} based on {reviews[2]} reviews.\")"
   ]
  }
 ],
 "metadata": {
  "hide_input": false,
  "kernelspec": {
   "display_name": "Python 3 (ipykernel)",
   "language": "python",
   "name": "python3"
  },
  "language_info": {
   "codemirror_mode": {
    "name": "ipython",
    "version": 3
   },
   "file_extension": ".py",
   "mimetype": "text/x-python",
   "name": "python",
   "nbconvert_exporter": "python",
   "pygments_lexer": "ipython3",
   "version": "3.9.12"
  },
  "toc": {
   "base_numbering": 1,
   "nav_menu": {},
   "number_sections": true,
   "sideBar": true,
   "skip_h1_title": false,
   "title_cell": "Table of Contents",
   "title_sidebar": "Contents",
   "toc_cell": false,
   "toc_position": {},
   "toc_section_display": true,
   "toc_window_display": false
  },
  "varInspector": {
   "cols": {
    "lenName": 16,
    "lenType": 16,
    "lenVar": 40
   },
   "kernels_config": {
    "python": {
     "delete_cmd_postfix": "",
     "delete_cmd_prefix": "del ",
     "library": "var_list.py",
     "varRefreshCmd": "print(var_dic_list())"
    },
    "r": {
     "delete_cmd_postfix": ") ",
     "delete_cmd_prefix": "rm(",
     "library": "var_list.r",
     "varRefreshCmd": "cat(var_dic_list()) "
    }
   },
   "types_to_exclude": [
    "module",
    "function",
    "builtin_function_or_method",
    "instance",
    "_Feature"
   ],
   "window_display": false
  }
 },
 "nbformat": 4,
 "nbformat_minor": 4
}
